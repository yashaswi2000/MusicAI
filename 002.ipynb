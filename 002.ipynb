{
 "cells": [
  {
   "cell_type": "code",
   "execution_count": 1,
   "metadata": {},
   "outputs": [],
   "source": [
    "import dask\n",
    "import pandas as pd\n",
    "import numpy as np\n",
    "from sentence_transformers import SentenceTransformer, util\n",
    "import requests\n",
    "import spotipy\n",
    "from spotipy.oauth2 import SpotifyClientCredentials\n",
    "from pprint import pprint"
   ]
  },
  {
   "cell_type": "code",
   "execution_count": 124,
   "metadata": {},
   "outputs": [],
   "source": [
    "df = pd.read_csv(\"DATASET/spotify_songs.csv\")\n",
    "# df.head()"
   ]
  },
  {
   "cell_type": "code",
   "execution_count": 125,
   "metadata": {},
   "outputs": [],
   "source": [
    "SPOTIPY_CLIENT_ID = \"\"\n",
    "SPOTIPY_CLIENT_SECRET=\"\"\n",
    "\n",
    "spotify = spotipy.Spotify(client_credentials_manager=SpotifyClientCredentials(SPOTIPY_CLIENT_ID, SPOTIPY_CLIENT_SECRET))"
   ]
  },
  {
   "cell_type": "code",
   "execution_count": 126,
   "metadata": {},
   "outputs": [
    {
     "name": "stdout",
     "output_type": "stream",
     "text": [
      "\n",
      "Artist: The Proclaimers,\n",
      "Title: I'm Gonna Be (500 Miles),\n",
      "HREF: https://api.spotify.com/v1/tracks/67iAlVNDDdddxqSD2EZhFs\n",
      "Preview: https://p.scdn.co/mp3-preview/42b4d0af211d3a2ad254c010254a1957297f3f24?cid=997cffe9b6cc4226ab08f5ac9b12d4ed,\n",
      "Cover art: https://i.scdn.co/image/ab67616d0000b273cebdf1f7660ace8c2a80585c,\n",
      "\n"
     ]
    }
   ],
   "source": [
    "Results = spotify.search(\"500 miles\")\n",
    "Top_result = sorted(Results['tracks']['items'], key=lambda x: x['popularity'], reverse=True)[0]\n",
    "\n",
    "Artist = Top_result[\"artists\"][0][\"name\"]\n",
    "Track_title = Top_result['name']\n",
    "Spotify_URL = Top_result['href']\n",
    "Preview_URL = Top_result[\"preview_url\"]\n",
    "Cover_art = Top_result['album']['images'][0]['url']\n",
    "\n",
    "\n",
    "print(f\"\"\"\n",
    "Artist: {Artist},\n",
    "Title: {Track_title},\n",
    "HREF: {Spotify_URL}\n",
    "Preview: {Preview_URL},\n",
    "Cover art: {Cover_art},\n",
    "\"\"\")"
   ]
  },
  {
   "cell_type": "code",
   "execution_count": null,
   "metadata": {},
   "outputs": [],
   "source": []
  },
  {
   "cell_type": "markdown",
   "metadata": {},
   "source": [
    "## Packaging"
   ]
  },
  {
   "cell_type": "code",
   "execution_count": null,
   "metadata": {},
   "outputs": [],
   "source": [
    "import dask\n",
    "import pandas as pd\n",
    "import numpy as np\n",
    "from sentence_transformers import SentenceTransformer, util\n",
    "import requests\n",
    "import spotipy\n",
    "from spotipy.oauth2 import SpotifyClientCredentials\n",
    "from pprint import pprint"
   ]
  },
  {
   "cell_type": "code",
   "execution_count": 5,
   "metadata": {},
   "outputs": [],
   "source": [
    "def get_song_from_spotify(k, spotify_client_id, spotify_client_secret, search_query):\n",
    "    spotify = spotipy.Spotify(client_credentials_manager=SpotifyClientCredentials(spotify_client_id, spotify_client_secret))\n",
    "    Results = spotify.search(search_query)\n",
    "    Top_k_result = sorted(Results['tracks']['items'], key=lambda x: x['popularity'], reverse=True)[:k]\n",
    "    return Top_k_result\n"
   ]
  },
  {
   "cell_type": "code",
   "execution_count": 11,
   "metadata": {},
   "outputs": [],
   "source": [
    "SPOTIPY_CLIENT_ID = \"\"\n",
    "SPOTIPY_CLIENT_SECRET=\"\"\n",
    "\n",
    "SEARCH_QUERY = \"Counting stars\"\n",
    "\n",
    "top_k_songs = get_song_from_spotify(3, SPOTIPY_CLIENT_ID, SPOTIPY_CLIENT_SECRET, SEARCH_QUERY)"
   ]
  },
  {
   "cell_type": "code",
   "execution_count": 12,
   "metadata": {},
   "outputs": [
    {
     "name": "stdout",
     "output_type": "stream",
     "text": [
      "\n",
      "Artist: OneRepublic,\n",
      "Title: Counting Stars,\n",
      "HREF: https://api.spotify.com/v1/tracks/2tpWsVSb9UEmDRxAl1zhX1\n",
      "Preview: None,\n",
      "Cover art: https://i.scdn.co/image/ab67616d0000b2739e2f95ae77cf436017ada9cb,\n",
      "\n"
     ]
    }
   ],
   "source": [
    "Top_result = top_k_songs[0]\n",
    "\n",
    "Artist = Top_result[\"artists\"][0][\"name\"]\n",
    "Track_title = Top_result['name']\n",
    "Spotify_URL = Top_result['href']\n",
    "Preview_URL = Top_result[\"preview_url\"]\n",
    "Cover_art = Top_result['album']['images'][0]['url']\n",
    "\n",
    "\n",
    "print(f\"\"\"\n",
    "Artist: {Artist},\n",
    "Title: {Track_title},\n",
    "HREF: {Spotify_URL}\n",
    "Preview: {Preview_URL},\n",
    "Cover art: {Cover_art},\n",
    "\"\"\")"
   ]
  },
  {
   "cell_type": "code",
   "execution_count": null,
   "metadata": {},
   "outputs": [],
   "source": []
  },
  {
   "cell_type": "code",
   "execution_count": null,
   "metadata": {},
   "outputs": [],
   "source": []
  },
  {
   "cell_type": "code",
   "execution_count": null,
   "metadata": {},
   "outputs": [],
   "source": []
  },
  {
   "cell_type": "code",
   "execution_count": null,
   "metadata": {},
   "outputs": [],
   "source": []
  },
  {
   "cell_type": "code",
   "execution_count": null,
   "metadata": {},
   "outputs": [],
   "source": []
  },
  {
   "cell_type": "code",
   "execution_count": null,
   "metadata": {},
   "outputs": [],
   "source": []
  },
  {
   "cell_type": "code",
   "execution_count": null,
   "metadata": {},
   "outputs": [],
   "source": []
  },
  {
   "cell_type": "code",
   "execution_count": null,
   "metadata": {},
   "outputs": [],
   "source": []
  },
  {
   "cell_type": "code",
   "execution_count": null,
   "metadata": {},
   "outputs": [],
   "source": []
  },
  {
   "cell_type": "code",
   "execution_count": null,
   "metadata": {},
   "outputs": [],
   "source": []
  },
  {
   "cell_type": "code",
   "execution_count": null,
   "metadata": {},
   "outputs": [],
   "source": []
  },
  {
   "cell_type": "code",
   "execution_count": null,
   "metadata": {},
   "outputs": [],
   "source": []
  }
 ],
 "metadata": {
  "kernelspec": {
   "display_name": "BigData",
   "language": "python",
   "name": "python3"
  },
  "language_info": {
   "codemirror_mode": {
    "name": "ipython",
    "version": 3
   },
   "file_extension": ".py",
   "mimetype": "text/x-python",
   "name": "python",
   "nbconvert_exporter": "python",
   "pygments_lexer": "ipython3",
   "version": "3.9.18"
  }
 },
 "nbformat": 4,
 "nbformat_minor": 2
}
