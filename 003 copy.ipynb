{
 "cells": [
  {
   "cell_type": "code",
   "execution_count": 1,
   "metadata": {},
   "outputs": [],
   "source": [
    "import pandas as pd\n",
    "import numpy as np\n",
    "from sentence_transformers import SentenceTransformer, util\n",
    "import requests\n",
    "import dask.dataframe as dd"
   ]
  },
  {
   "cell_type": "markdown",
   "metadata": {},
   "source": [
    "<!-- ##### NOTE\n",
    "# The files that are not included yet are:\n",
    "# jazz.00002.wav\n",
    "# jazz.00009.wav\n",
    "# jazz.00013.wav\n",
    "# jazz.00016.wav\n",
    "# jazz.00022.wav\n",
    "# jazz.00031.wav\n",
    "# jazz.00032.wav\n",
    "# jazz.00033.wav\n",
    "# jazz.00055.wav\n",
    "# jazz.00078.wav\n",
    "# jazz.00086.wav\n",
    "# jazz.00090.wav\n",
    "# jazz.00098.wav -->"
   ]
  },
  {
   "cell_type": "code",
   "execution_count": 2,
   "metadata": {},
   "outputs": [],
   "source": [
    "df = dd.read_csv('DATASET/Captioned/*.csv')\n",
    "captions = list(df[\"captioning\"])\n",
    "\n",
    "ADDRESS = dict()  #key:caption, value:file_name\n",
    "for _,row in df.iterrows():\n",
    "    ADDRESS[row['captioning']] = row['file_name']"
   ]
  },
  {
   "cell_type": "code",
   "execution_count": 3,
   "metadata": {},
   "outputs": [],
   "source": [
    "QUERY = \"I want a slow and mellow song for sleep\""
   ]
  },
  {
   "cell_type": "code",
   "execution_count": 4,
   "metadata": {},
   "outputs": [],
   "source": [
    "VDB_model = SentenceTransformer('sentence-transformers/all-MiniLM-L6-v2')\n",
    "query_embedding = VDB_model.encode(QUERY)\n",
    "passage_embedding = VDB_model.encode(captions)\n",
    "similarity = util.dot_score(query_embedding, passage_embedding)\n",
    "sorted_similarity = similarity.sort(descending=True)"
   ]
  },
  {
   "cell_type": "code",
   "execution_count": 5,
   "metadata": {},
   "outputs": [
    {
     "name": "stdout",
     "output_type": "stream",
     "text": [
      "Caption that matched your query:\n",
      "[0:00-10:00]\n",
      "This is a lullaby music piece. There is a female vocalist singing melodically. The melody is being played by the piano while there is a synth pad playing in the background. The atmosphere is dreamy. This piece could be used in the soundtrack of a drama TV series during the scenes where the characters are reminiscing the past. \n",
      " \n",
      "[10:00-20:00]\n",
      "A female vocalist sings this soft love song in a foreign language. The tempo is slow with a melancholic piano accompaniment and a violin harmony. The song is soft, mellow, poignant, emotional, sentimental, melancholic and pensive. This song is a Romantic Pop. \n",
      " \n",
      "[20:00-30:00]\n",
      "This slow pop song features a female voice singing the main melody. This is accompanied by an acoustic guitar playing chords in the background. The bass plays the root notes of the chords. There is no percussion in this song. The mood of this song is romantic. This song can be played in a romantic movie. \n",
      " \n",
      "\n"
     ]
    }
   ],
   "source": [
    "Query_match_caption = captions[int(sorted_similarity[1][0][0])]\n",
    "print(\"Caption that matched your query:\\n\" + Query_match_caption)"
   ]
  },
  {
   "cell_type": "code",
   "execution_count": 6,
   "metadata": {},
   "outputs": [
    {
     "name": "stdout",
     "output_type": "stream",
     "text": [
      "Music file name: pop.00011.wav\n"
     ]
    }
   ],
   "source": [
    "music_clip_name = ADDRESS[captions[int(sorted_similarity[1][0][0])]]\n",
    "print(\"Music file name:\", music_clip_name)"
   ]
  },
  {
   "cell_type": "code",
   "execution_count": 14,
   "metadata": {},
   "outputs": [],
   "source": [
    "# API keys and tokens\n",
    "API_URL_Z = \"https://api-inference.huggingface.co/models/HuggingFaceH4/zephyr-7b-beta\"\n",
    "headers_Z = {\"Authorization\": \"Bearer \"}\n",
    "\n",
    "    \n",
    "def Zephyr_overall_opinion(Clips_descriptions):\n",
    "\n",
    "    Z_Query_Final = f\"\"\"<|system|>\n",
    "        Given the user's descriptions about each ten-second clips of the music, provide an overall description of the music</s>\n",
    "        <|user|>\n",
    "        {Clips_descriptions}</s>\n",
    "        <|assistant|>\"\"\"\n",
    "    \n",
    "    Zephyr_B_Beta_Final_Generated_Response = requests.post(API_URL_Z, headers=headers_Z, json={\"inputs\": Z_Query_Final}).json()\n",
    "    return Zephyr_B_Beta_Final_Generated_Response[0][\"generated_text\"][len(Z_Query_Final):]"
   ]
  },
  {
   "cell_type": "code",
   "execution_count": 15,
   "metadata": {},
   "outputs": [
    {
     "name": "stdout",
     "output_type": "stream",
     "text": [
      "\n",
      "Overall, these three ten-second clips showcase a collection of soothing and romantic music pieces. The first clip features a dreamy lullaby with a female vocalist singing over a piano melody and a synth pad background. The second clip presents a slow love song in a foreign language, with a melancholic piano accompaniment and a violin harmony, creating a soft and emotional atmosphere. The third clip features a slow pop song with a female vocalist and an acoustic guitar accompaniment, creating a romantic mood without any percussion. These pieces would be suitable for use in dramas, romantic movies, or as background music for intimate moments.\n"
     ]
    }
   ],
   "source": [
    "ANSWER = Zephyr_overall_opinion(Query_match_caption)\n",
    "print(ANSWER)"
   ]
  },
  {
   "cell_type": "code",
   "execution_count": null,
   "metadata": {},
   "outputs": [],
   "source": []
  },
  {
   "cell_type": "markdown",
   "metadata": {},
   "source": [
    "## Packaging"
   ]
  },
  {
   "cell_type": "code",
   "execution_count": 12,
   "metadata": {},
   "outputs": [],
   "source": [
    "import pandas as pd\n",
    "import numpy as np\n",
    "from sentence_transformers import SentenceTransformer, util\n",
    "import requests\n",
    "import dask.dataframe as dd\n",
    "import pandas as pd\n",
    "import numpy as np\n",
    "from sentence_transformers import SentenceTransformer, util\n",
    "import requests\n",
    "import dask.dataframe as dd"
   ]
  },
  {
   "cell_type": "code",
   "execution_count": 2,
   "metadata": {},
   "outputs": [],
   "source": [
    "df = dd.read_csv('DATASET/Captioned/*.csv')\n",
    "\n",
    "ADDRESS = dict()  #key:caption, value:file_name\n",
    "for _,row in df.iterrows():\n",
    "    ADDRESS[row['captioning']] = row['file_name']"
   ]
  },
  {
   "cell_type": "code",
   "execution_count": 23,
   "metadata": {},
   "outputs": [],
   "source": [
    "class sangeetha_swarangal_similar_music:\n",
    "    def __init__(self, database):\n",
    "        self.captions = list(database.keys())\n",
    "        self.VDB_model = SentenceTransformer('sentence-transformers/all-MiniLM-L6-v2')\n",
    "        self.All_songs_embedding = self.VDB_model.encode(self.captions)\n",
    "\n",
    "    def get_k_songs_based_on_query(self, query, k):\n",
    "        query_embedding = self.VDB_model.encode(query)\n",
    "        similarity = util.dot_score(query_embedding, self.All_songs_embedding)\n",
    "        sorted_similarity = similarity.sort(descending=True)\n",
    "        K_query_match_caption = [self.captions[int(sorted_similarity[1][0][i])] for i in range(k)]\n",
    "        why_these_clips = [self.Zephyr_overall_opinion(K_query_match_caption[i], query) for i in range(k)]\n",
    "        return (K_query_match_caption, why_these_clips)\n",
    "    \n",
    "    def Zephyr_overall_opinion(self, Clips_descriptions, query):\n",
    "        # API keys and tokens\n",
    "        API_URL_Z = \"https://api-inference.huggingface.co/models/HuggingFaceH4/zephyr-7b-beta\"\n",
    "        headers_Z = {\"Authorization\": \"Bearer \"}\n",
    "        # Prompt tuning\n",
    "        Z_Query_Final = f\"\"\"<|system|>\n",
    "            ROLE: song suggestion reasoner. You matched the my REQUEST for song with another song having the following DESCRIPTION. Tell me why you matched these?</s>\n",
    "            <|user|>\n",
    "            DESCRIPTION: {Clips_descriptions}\n",
    "            REQUEST: {query}</s>\n",
    "            <|assistant|>\"\"\"\n",
    "        # Generate response\n",
    "        Zephyr_B_Beta_Final_Generated_Response = requests.post(API_URL_Z, headers=headers_Z, json={\"inputs\": Z_Query_Final}).json()\n",
    "        return Zephyr_B_Beta_Final_Generated_Response[0][\"generated_text\"][len(Z_Query_Final):]"
   ]
  },
  {
   "cell_type": "code",
   "execution_count": 24,
   "metadata": {},
   "outputs": [
    {
     "name": "stdout",
     "output_type": "stream",
     "text": [
      "Music file name: pop.00000.wav\n",
      "captions: [0:00-10:00]\n",
      "A female vocalist sings this melodic Soft Rock. The tempo is medium with a strong bass line, keyboard accompaniment, steady drumming and various percussion hits. The song is mellow, soft, melodic, soothing, devotional, sentimental, melancholic and pensive. This song is a devotional Christian Song. \n",
      " \n",
      "[10:00-20:00]\n",
      "This is a teen pop music piece. There is a female vocalist singing melodically. The main tune is being played by the acoustic guitar and the electric guitar while the bass guitar is playing in the background. The rhythm is provided by a simple acoustic drum beat. The atmosphere is mellow. This piece could be used in the soundtrack of a teenage drama TV series. \n",
      " \n",
      "[20:00-30:00]\n",
      "A female vocalist sings this melodic Soft Rock. The tempo is medium with a strong bass line, keyboard accompaniment, steady drumming and various percussion hits. The song is emotional and devotional. The audio quality is poor. \n",
      " \n",
      "\n",
      "Reason: \n",
      "Based on your request for a slow and mellow song, I matched the first song in the description as it fits your criteria perfectly. The song has a medium tempo, is melodic, mellow, soft, soothing, devotional, sentimental, melancholic, and pensive. It also has a strong bass line, keyboard accompaniment, steady drumming, and various percussion hits, which adds to its overall mellow and slow vibe.\n",
      "\n",
      "The second song in the description is also mellow, but it has a different genre and tempo. While it could still be considered slow, it is more upbeat and has a different style than the first song. The third song also has a slow tempo and is emotional and devotional, but the audio quality is poor, which may not be ideal for your request.\n",
      "\n",
      "Overall, I believe the first song in the description is the best match for your request as it meets all of your criteria and has a high audio quality.\n",
      "xxxxxxxxxxxxxxxxxxxxxxxxxxxxxxxxxxxxxxxxxxxxxxx\n",
      "Music file name: pop.00041.wav\n",
      "captions: [0:00-10:00]\n",
      "The low quality recording features a passionate male vocal singing over mellow piano chords, shimmering hi hats, snappy rimshots, punchy kick and soft bass. It sounds emotional, passionate and heartfelt. \n",
      " \n",
      "[10:00-20:00]\n",
      "The low quality recording features a live performance of a pop song that consists of a passionate male vocal singing over mellow piano chords, shimmering hi hats, punchy kick and snappy rimshots. It sounds emotional, passionate and heartfelt. \n",
      " \n",
      "[20:00-30:00]\n",
      "A male vocalist sings this emotional song. The tempo is medium with a keyboard accompaniment, steady drumming, synthesiser arrangements and subtle bass. The song is passionate, emotional, sentimental, wistful, melancholic and romantic. This song is a Soul/R&B. \n",
      " \n",
      "\n",
      "Reason: \n",
      "Based on your request for a slow and mellow song, I matched the following song with the given descriptions because all three sections feature a slow tempo, mellow instrumentation, and emotional vocals. The first section has a passionate male vocal singing over mellow piano chords, shimmering hi hats, snappy rimshots, punchy kick, and soft bass. The second section also has a live performance of a pop song with similar instrumentation and vocals. The third section has a male vocalist singing an emotional song with a keyboard accompaniment, steady drumming, synthesiser arrangements, and subtle bass. All three sections have a similar style and mood, making them suitable matches for your request.\n",
      "xxxxxxxxxxxxxxxxxxxxxxxxxxxxxxxxxxxxxxxxxxxxxxx\n",
      "Music file name: rock.00023.wav\n",
      "captions: [0:00-10:00]\n",
      "The low quality recording features a live performance of a rock song that consists of flat male vocal singing over punchy kick, snare, shimmering hi hats, groovy bass guitar and electric guitar melodies. There are some crowd cheering noises in the background. It sounds energetic and exciting. \n",
      " \n",
      "[10:00-20:00]\n",
      "The low quality recording features a rock song that consists of a passionate male vocal singing over punchy kick and snare hits, shimmering hi hats, groovy bass guitar, electric guitar melody and acoustic rhythm guitar. It sounds energetic and addictive. \n",
      " \n",
      "[20:00-30:00]\n",
      "This slow pop song features a male voice singing the main melody. This is accompanied by percussion playing a simple beat. The hi-hat is played in eighth notes. The bass plays the root notes of the chords. A piano plays a arpeggiated chords in the background. There are no voices in this song. The mood of this song is romantic. This song can be played in a romantic movie. \n",
      " \n",
      "\n",
      "Reason: \n",
      "Based on your request for a slow and mellow song, I suggest the section from [20:00-30:00] in the DESCRIPTION provided. This section features a slow pop song with a male voice singing the main melody accompanied by a simple beat, arpeggiated chords on the piano, and a bass playing the root notes of the chords. The mood of this song is romantic, making it a perfect fit for your request. The lack of voices in this section also adds to its mellow and soothing quality.\n",
      "xxxxxxxxxxxxxxxxxxxxxxxxxxxxxxxxxxxxxxxxxxxxxxx\n",
      "Music file name: pop.00040.wav\n",
      "captions: [0:00-10:00]\n",
      "A female vocalist sings this soft love song in a foreign language. The tempo is slow with a mellow piano accompaniment, steady bass line, rhythmic acoustic guitar and keyboard accompaniment. The song is soft, mellow, passionate, emotional and sentimental. This song is a Pop song. \n",
      " \n",
      "[10:00-20:00]\n",
      "This is a pop rock music piece. There is a female vocalist singing melodically in the lead. The melody is being played by the electric guitar while the bass guitar is playing in the background. The rhythm is provided by a slow tempo acoustic drum beat. The atmosphere is sentimental. This piece could be used in the soundtrack of a drama movie, especially during the scenes where a character is reminiscing about the good old days. \n",
      " \n",
      "[20:00-30:00]\n",
      "The song is an instrumental. The tempo is medium with a passionate electric guitar solo, keyboard accompaniment, steady drumming rhythm, groovy bass line and various percussion hits. The song is emotional and powerful. The audio quality is poor. \n",
      " \n",
      "\n",
      "Reason: \n",
      "Based on your request for a slow and mellow song, I matched the first section of the DESCRIPTION with a song that fits your criteria. The female vocalist sings a soft love song in a foreign language with a slow tempo, mellow piano accompaniment, steady bass line, and keyboard accompaniment. The song is soft, mellow, passionate, emotional, and sentimental, making it the perfect match for your request. I hope you enjoy listening to it!\n",
      "xxxxxxxxxxxxxxxxxxxxxxxxxxxxxxxxxxxxxxxxxxxxxxx\n",
      "Music file name: rock.00089.wav\n",
      "captions: [0:00-10:00]\n",
      "A male singer sings this popular country song. The tempo is medium with a funky bass line, steady drumming rhythm, keyboard accompaniment, steady bass line and various percussion hits. The song is exciting and groovy. The audio quality is poor. \n",
      " \n",
      "[10:00-20:00]\n",
      "A male vocalist sings this popular song. The tempo is medium with a groovy bass line, steady drumming rhythm, keyboard accompaniment, steady bass line and various percussion hits. The song is exciting and cheerful. The audio quality is poor. \n",
      " \n",
      "[20:00-30:00]\n",
      "This is a pop/soft rock music piece. There is a male vocalist singing melodically in the lead. The main melody is being played by the piano and the electric guitar while the bass guitar is playing in the background. The rhythm is provided by a simple acoustic drum beat. The atmosphere is easygoing. This piece could be used in the soundtrack of a romantic comedy movie, especially during the scenes where the characters are starting to fall in love with each other. \n",
      " \n",
      "\n",
      "Reason: \n",
      "Based on your request for a slow and mellow song, I suggest the third song in the description as it has a melodic lead vocalist, a simple acoustic drum beat, and an easygoing atmosphere. While the first two songs have a similar tempo and groovy rhythm, they are more exciting and cheerful, which does not match your request for a slow and mellow song.\n",
      "xxxxxxxxxxxxxxxxxxxxxxxxxxxxxxxxxxxxxxxxxxxxxxx\n"
     ]
    }
   ],
   "source": [
    "QUERY = \"I want a slow and mellow song\"\n",
    "K = 5\n",
    "SSAI1 = sangeetha_swarangal_similar_music(ADDRESS)\n",
    "\n",
    "\n",
    "k_captions, reasoning = SSAI1.get_k_songs_based_on_query(QUERY, K)\n",
    "music_clips_name = [ADDRESS[k_captions[i]] for i in range(K)]\n",
    "\n",
    "for i in range(K):\n",
    "    print(\"Music file name:\", music_clips_name[i])\n",
    "    print(f\"captions: {k_captions[i]}\")\n",
    "    print(f\"Reason: {reasoning[i]}\")\n",
    "    print(\"xxxxxxxxxxxxxxxxxxxxxxxxxxxxxxxxxxxxxxxxxxxxxxx\")"
   ]
  }
 ],
 "metadata": {
  "kernelspec": {
   "display_name": "BigData",
   "language": "python",
   "name": "python3"
  },
  "language_info": {
   "codemirror_mode": {
    "name": "ipython",
    "version": 3
   },
   "file_extension": ".py",
   "mimetype": "text/x-python",
   "name": "python",
   "nbconvert_exporter": "python",
   "pygments_lexer": "ipython3",
   "version": "3.9.18"
  }
 },
 "nbformat": 4,
 "nbformat_minor": 2
}
