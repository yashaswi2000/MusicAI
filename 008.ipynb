{
 "cells": [
  {
   "cell_type": "markdown",
   "metadata": {},
   "source": [
    "<b>This is for getting similar songs given a song from the user</b>"
   ]
  },
  {
   "cell_type": "code",
   "execution_count": 9,
   "metadata": {},
   "outputs": [],
   "source": [
    "import base64\n",
    "import hashlib\n",
    "import hmac\n",
    "import os\n",
    "import time\n",
    "import requests\n",
    "import spotipy\n",
    "from spotipy.oauth2 import SpotifyClientCredentials\n"
   ]
  },
  {
   "cell_type": "markdown",
   "metadata": {},
   "source": [
    "## ACR cloud"
   ]
  },
  {
   "cell_type": "code",
   "execution_count": 4,
   "metadata": {},
   "outputs": [],
   "source": [
    "# ACRCloud API credentials\n",
    "access_key = \"\"\n",
    "access_secret = \"\"\n",
    "requrl = \"https://identify-eu-west-1.acrcloud.com/v1/identify\" \n",
    "\n",
    "# Request details\n",
    "http_method = \"POST\"\n",
    "http_uri = \"/v1/identify\"\n",
    "data_type = \"audio\"  # For audio recognition\n",
    "signature_version = \"1\"\n",
    "timestamp = time.time()\n",
    "\n",
    "# Create string to sign\n",
    "string_to_sign = \"\\n\".join([\n",
    "    http_method,\n",
    "    http_uri,\n",
    "    access_key,\n",
    "    data_type,\n",
    "    signature_version,\n",
    "    str(timestamp)\n",
    "])\n",
    "\n",
    "# Generate signature\n",
    "sign = base64.b64encode(hmac.new(access_secret.encode('ascii'), string_to_sign.encode('ascii'), hashlib.sha1).digest()).decode('ascii')\n"
   ]
  },
  {
   "cell_type": "code",
   "execution_count": 5,
   "metadata": {},
   "outputs": [
    {
     "name": "stdout",
     "output_type": "stream",
     "text": [
      "{\"cost_time\":2.0600001811981,\"status\":{\"code\":0,\"msg\":\"Success\",\"version\":\"1.0\"},\"result_type\":0,\"metadata\":{\"music\":[{\"db_begin_time_offset_ms\":30160,\"external_ids\":{\"isrc\":\"GBAYE1500979\",\"upc\":\"825646487059\"},\"sample_begin_time_offset_ms\":0,\"sample_end_time_offset_ms\":11680,\"play_offset_ms\":42080,\"genres\":[{\"name\":\"Alternative\"}],\"duration_ms\":249146,\"db_end_time_offset_ms\":41840,\"label\":\"Parlophone UK\",\"release_date\":\"2019-04-12\",\"album\":{\"name\":\"BRIT Awards 2017\"},\"title\":\"Hymn For the Weekend\",\"result_from\":3,\"acrid\":\"d8df8190edd31cd232f384f93263b046\",\"artists\":[{\"name\":\"Coldplay\"}],\"external_metadata\":{\"deezer\":{\"artists\":[{\"id\":892,\"name\":\"Coldplay\"}],\"track\":{\"id\":\"114811546\",\"name\":\"Hymn For The Weekend\"},\"album\":{\"name\":\"A Head Full Of Dreams\",\"id\":11898198}},\"spotify\":{\"artists\":[{\"name\":\"Coldplay\",\"id\":\"4gzpq5DPGxSnKTe4SA8HAU\"}],\"track\":{\"id\":\"1pqT8dY3ti8vrjdxRnhi9g\",\"name\":\"Hymn For The Weekend\"},\"album\":{\"name\":\"NOW That's What I Call Music!, Vol. 60 (Deluxe Edition)\",\"id\":\"74BVAeJgcJjomcDq9HKii7\"}},\"youtube\":{\"vid\":\"YykjpeuMNEk\"}},\"score\":100},{\"label\":\"XENTERLEY\",\"db_begin_time_offset_ms\":5720,\"external_ids\":{\"upc\":\"752470026843\",\"isrc\":\"QM42K2261314\"},\"sample_begin_time_offset_ms\":4620,\"release_date\":\"2022-02-25\",\"result_from\":3,\"artists\":[{\"name\":\"carlo iacobelli\"}],\"acrid\":\"b051fcba2380527c6fbfeb48e4c41bef\",\"title\":\"Daylight\",\"external_metadata\":{\"deezer\":{\"artists\":[{\"name\":\"carlo iacobelli\",\"id\":\"60428132\"}],\"track\":{\"id\":\"1648767682\",\"name\":\"Daylight\"},\"album\":{\"name\":\"Daylight\",\"id\":\"293963392\"}},\"youtube\":{\"vid\":\"Ghg6g7VWSws\"}},\"album\":{\"name\":\"Daylight\"},\"db_end_time_offset_ms\":10260,\"genres\":[{\"name\":\"Dance\",\"id\":113}],\"duration_ms\":183954,\"sample_end_time_offset_ms\":9160,\"play_offset_ms\":13060,\"score\":100},{\"duration_ms\":231000,\"db_begin_time_offset_ms\":99120,\"external_ids\":{},\"sample_begin_time_offset_ms\":2840,\"release_date\":\"2016-02-28\",\"play_offset_ms\":108240,\"artists\":[{\"name\":\"Coldplay\"}],\"title\":\"Hymn For The Weekend (Live From The BRITs)\",\"album\":{\"name\":\"Hymn For The Weekend (Live From The BRITs)\"},\"db_end_time_offset_ms\":107200,\"sample_end_time_offset_ms\":10920,\"acrid\":\"871bb4286fe55f0f61452cf752b83111\",\"external_metadata\":{},\"result_from\":3,\"score\":100}],\"timestamp_utc\":\"2023-12-11 05:36:02\"}}\n",
      "\n"
     ]
    }
   ],
   "source": [
    "\n",
    "# File to be recognized\n",
    "file_path = 'DATASET/Test.mp4'\n",
    "sample_bytes = os.path.getsize(file_path)\n",
    "\n",
    "# Prepare files and data for POST request\n",
    "files = {\n",
    "    'sample': open(file_path, 'rb')\n",
    "}\n",
    "data = {\n",
    "    'access_key': access_key,\n",
    "    'sample_bytes': sample_bytes,\n",
    "    'timestamp': str(timestamp),\n",
    "    'signature': sign,\n",
    "    'data_type': data_type,\n",
    "    'signature_version': signature_version\n",
    "}\n",
    "\n",
    "# Send request\n",
    "response = requests.post(requrl, files=files, data=data)\n",
    "response.encoding = \"utf-8\"\n",
    "print(response.text)\n"
   ]
  },
  {
   "cell_type": "code",
   "execution_count": 7,
   "metadata": {},
   "outputs": [
    {
     "data": {
      "text/plain": [
       "'{\"cost_time\":2.0600001811981,\"status\":{\"code\":0,\"msg\":\"Success\",\"version\":\"1.0\"},\"result_type\":0,\"metadata\":{\"music\":[{\"db_begin_time_offset_ms\":30160,\"external_ids\":{\"isrc\":\"GBAYE1500979\",\"upc\":\"825646487059\"},\"sample_begin_time_offset_ms\":0,\"sample_end_time_offset_ms\":11680,\"play_offset_ms\":42080,\"genres\":[{\"name\":\"Alternative\"}],\"duration_ms\":249146,\"db_end_time_offset_ms\":41840,\"label\":\"Parlophone UK\",\"release_date\":\"2019-04-12\",\"album\":{\"name\":\"BRIT Awards 2017\"},\"title\":\"Hymn For the Weekend\",\"result_from\":3,\"acrid\":\"d8df8190edd31cd232f384f93263b046\",\"artists\":[{\"name\":\"Coldplay\"}],\"external_metadata\":{\"deezer\":{\"artists\":[{\"id\":892,\"name\":\"Coldplay\"}],\"track\":{\"id\":\"114811546\",\"name\":\"Hymn For The Weekend\"},\"album\":{\"name\":\"A Head Full Of Dreams\",\"id\":11898198}},\"spotify\":{\"artists\":[{\"name\":\"Coldplay\",\"id\":\"4gzpq5DPGxSnKTe4SA8HAU\"}],\"track\":{\"id\":\"1pqT8dY3ti8vrjdxRnhi9g\",\"name\":\"Hymn For The Weekend\"},\"album\":{\"name\":\"NOW That\\'s What I Call Music!, Vol. 60 (Deluxe Edition)\",\"id\":\"74BVAeJgcJjomcDq9HKii7\"}},\"youtube\":{\"vid\":\"YykjpeuMNEk\"}},\"score\":100},{\"label\":\"XENTERLEY\",\"db_begin_time_offset_ms\":5720,\"external_ids\":{\"upc\":\"752470026843\",\"isrc\":\"QM42K2261314\"},\"sample_begin_time_offset_ms\":4620,\"release_date\":\"2022-02-25\",\"result_from\":3,\"artists\":[{\"name\":\"carlo iacobelli\"}],\"acrid\":\"b051fcba2380527c6fbfeb48e4c41bef\",\"title\":\"Daylight\",\"external_metadata\":{\"deezer\":{\"artists\":[{\"name\":\"carlo iacobelli\",\"id\":\"60428132\"}],\"track\":{\"id\":\"1648767682\",\"name\":\"Daylight\"},\"album\":{\"name\":\"Daylight\",\"id\":\"293963392\"}},\"youtube\":{\"vid\":\"Ghg6g7VWSws\"}},\"album\":{\"name\":\"Daylight\"},\"db_end_time_offset_ms\":10260,\"genres\":[{\"name\":\"Dance\",\"id\":113}],\"duration_ms\":183954,\"sample_end_time_offset_ms\":9160,\"play_offset_ms\":13060,\"score\":100},{\"duration_ms\":231000,\"db_begin_time_offset_ms\":99120,\"external_ids\":{},\"sample_begin_time_offset_ms\":2840,\"release_date\":\"2016-02-28\",\"play_offset_ms\":108240,\"artists\":[{\"name\":\"Coldplay\"}],\"title\":\"Hymn For The Weekend (Live From The BRITs)\",\"album\":{\"name\":\"Hymn For The Weekend (Live From The BRITs)\"},\"db_end_time_offset_ms\":107200,\"sample_end_time_offset_ms\":10920,\"acrid\":\"871bb4286fe55f0f61452cf752b83111\",\"external_metadata\":{},\"result_from\":3,\"score\":100}],\"timestamp_utc\":\"2023-12-11 05:36:02\"}}\\n'"
      ]
     },
     "execution_count": 7,
     "metadata": {},
     "output_type": "execute_result"
    }
   ],
   "source": [
    "recognition_result = response.text\n",
    "recognition_result"
   ]
  },
  {
   "cell_type": "code",
   "execution_count": 8,
   "metadata": {},
   "outputs": [
    {
     "name": "stdout",
     "output_type": "stream",
     "text": [
      "Spotify Track ID: 1pqT8dY3ti8vrjdxRnhi9g\n"
     ]
    }
   ],
   "source": [
    "import json\n",
    "\n",
    "result_json = json.loads(recognition_result)\n",
    "spotify_track_id = result_json.get('metadata', {}).get('music', [])[0].get('external_metadata', {}).get('spotify', {}).get('track', {}).get('id')\n",
    "print(\"Spotify Track ID:\", spotify_track_id)\n"
   ]
  },
  {
   "cell_type": "markdown",
   "metadata": {},
   "source": [
    "## Spotify"
   ]
  },
  {
   "cell_type": "code",
   "execution_count": 10,
   "metadata": {},
   "outputs": [],
   "source": [
    "SPOTIPY_CLIENT_ID = \"997cffe9b6cc4226ab08f5ac9b12d4ed\"\n",
    "SPOTIPY_CLIENT_SECRET=\"ad98603976834fbeb322028814644db5\"\n",
    "\n",
    "spotify = spotipy.Spotify(client_credentials_manager=SpotifyClientCredentials(SPOTIPY_CLIENT_ID, SPOTIPY_CLIENT_SECRET))"
   ]
  },
  {
   "cell_type": "code",
   "execution_count": 11,
   "metadata": {},
   "outputs": [
    {
     "name": "stdout",
     "output_type": "stream",
     "text": [
      "Track Name: Hymn For The Weekend\n",
      "Artist: Coldplay\n",
      "Album: NOW That's What I Call Music!, Vol. 60 (Deluxe Edition)\n",
      "Release Date: 2016-11-04\n",
      "Preview URL: None\n",
      "Cover art: https://i.scdn.co/image/ab67616d0000b273b31bf4e1f1f7d2937f8052b0\n",
      "URL to the song: https://api.spotify.com/v1/tracks/1pqT8dY3ti8vrjdxRnhi9g\n"
     ]
    }
   ],
   "source": [
    "track_info = spotify.track(spotify_track_id)\n",
    "\n",
    "print(f\"Track Name: {track_info['name']}\")\n",
    "print(f\"Artist: {track_info['artists'][0]['name']}\")\n",
    "print(f\"Album: {track_info['album']['name']}\")\n",
    "print(f\"Release Date: {track_info['album']['release_date']}\")\n",
    "print(f\"Preview URL: {track_info['preview_url']}\")\n",
    "print(f\"Cover art: {track_info['album']['images'][0]['url']}\")\n",
    "print(f\"URL to the song: {track_info['href']}\")"
   ]
  },
  {
   "cell_type": "markdown",
   "metadata": {},
   "source": [
    "## Packaging all:"
   ]
  },
  {
   "cell_type": "code",
   "execution_count": 1,
   "metadata": {},
   "outputs": [],
   "source": [
    "import base64\n",
    "import hashlib\n",
    "import hmac\n",
    "import os\n",
    "import time\n",
    "import requests\n",
    "import spotipy\n",
    "from spotipy.oauth2 import SpotifyClientCredentials\n",
    "import json"
   ]
  },
  {
   "cell_type": "code",
   "execution_count": 2,
   "metadata": {},
   "outputs": [],
   "source": [
    "##### GLOBAL VARIABLES FOR CREDENTIALS:\n",
    "\n",
    "# ACRCloud API credentials\n",
    "ACCESS_KEY = \"\"\n",
    "ACCESS_SECRET = \"\"\n",
    "REQURL = \"https://identify-eu-west-1.acrcloud.com/v1/identify\" \n",
    "\n",
    "# Spotify API credentials\n",
    "SPOTIPY_CLIENT_ID = \"\"\n",
    "SPOTIPY_CLIENT_SECRET=\"\"\n",
    "\n",
    "# File path to the audio clip\n",
    "AUDIO_FILE_PATH = 'DATASET/Test.mp4'"
   ]
  },
  {
   "cell_type": "code",
   "execution_count": 6,
   "metadata": {},
   "outputs": [],
   "source": [
    "def get_similar_song_from_spotify(ACRCloud_access_key, ACRCloud_access_secret, ACRrequrl, Spotify_client_id, Spotify_client_secret, audio_file_path):\n",
    "    # Request details\n",
    "    http_method = \"POST\"\n",
    "    http_uri = \"/v1/identify\"\n",
    "    data_type = \"audio\"\n",
    "    signature_version = \"1\"\n",
    "    timestamp = time.time()\n",
    "\n",
    "    # Create string to sign\n",
    "    string_to_sign = \"\\n\".join([\n",
    "        http_method,\n",
    "        http_uri,\n",
    "        ACRCloud_access_key,\n",
    "        data_type,\n",
    "        signature_version,\n",
    "        str(timestamp)\n",
    "    ])\n",
    "\n",
    "    # Generate signature\n",
    "    sign = base64.b64encode(hmac.new(ACRCloud_access_secret.encode('ascii'), string_to_sign.encode('ascii'), hashlib.sha1).digest()).decode('ascii')\n",
    "\n",
    "    # File to be recognized\n",
    "    file_path = audio_file_path\n",
    "    sample_bytes = os.path.getsize(file_path)\n",
    "\n",
    "    # Prepare files and data for POST request\n",
    "    files = {\n",
    "        'sample': open(file_path, 'rb')\n",
    "    }\n",
    "    data = {\n",
    "        'access_key': ACRCloud_access_key,\n",
    "        'sample_bytes': sample_bytes,\n",
    "        'timestamp': str(timestamp),\n",
    "        'signature': sign,\n",
    "        'data_type': data_type,\n",
    "        'signature_version': signature_version\n",
    "    }\n",
    "\n",
    "    # Send request\n",
    "    response = requests.post(ACRrequrl, files=files, data=data)\n",
    "    response.encoding = \"utf-8\"\n",
    "    recognition_result = response.text\n",
    "\n",
    "    # Spotify ID\n",
    "    result_json = json.loads(recognition_result)\n",
    "    spotify_track_id = result_json.get('metadata', {}).get('music', [])[0].get('external_metadata', {}).get('spotify', {}).get('track', {}).get('id')\n",
    "\n",
    "    # Request connection:\n",
    "    spotify = spotipy.Spotify(client_credentials_manager=SpotifyClientCredentials(Spotify_client_id, Spotify_client_secret))\n",
    "\n",
    "    # Get the song track\n",
    "    track_info = spotify.track(spotify_track_id)\n",
    "\n",
    "\n",
    "    # Return track_information\n",
    "    return track_info"
   ]
  },
  {
   "cell_type": "code",
   "execution_count": 5,
   "metadata": {},
   "outputs": [
    {
     "name": "stdout",
     "output_type": "stream",
     "text": [
      "Spotify Track ID: 1pqT8dY3ti8vrjdxRnhi9g\n"
     ]
    }
   ],
   "source": [
    "\n",
    "# Calling the function\n",
    "\n",
    "track_info = get_similar_song_from_spotify(\n",
    "    \"a0915094ec173c83c245b22061073641\",\n",
    "    \"uhlyu4xghQjwXB6qo2HDoi9uuLrDU9IYwK7RkOZt\",\n",
    "    \"https://identify-eu-west-1.acrcloud.com/v1/identify\",\n",
    "    \"997cffe9b6cc4226ab08f5ac9b12d4ed\",\n",
    "    \"ad98603976834fbeb322028814644db5\",\n",
    "    'DATASET/Test.mp4'\n",
    ")"
   ]
  },
  {
   "cell_type": "code",
   "execution_count": 7,
   "metadata": {},
   "outputs": [
    {
     "name": "stdout",
     "output_type": "stream",
     "text": [
      "Track Name: Hymn For The Weekend\n",
      "Artist: Coldplay\n",
      "Album: NOW That's What I Call Music!, Vol. 60 (Deluxe Edition)\n",
      "Release Date: 2016-11-04\n",
      "Preview URL: None\n",
      "Cover art: https://i.scdn.co/image/ab67616d0000b273b31bf4e1f1f7d2937f8052b0\n",
      "URL to the song: https://api.spotify.com/v1/tracks/1pqT8dY3ti8vrjdxRnhi9g\n"
     ]
    }
   ],
   "source": [
    "track_name = track_info['name']\n",
    "artist_name = track_info['artists'][0]['name']\n",
    "album_name = track_info['album']['name']\n",
    "release_date = track_info['album']['release_date']\n",
    "preview_url = track_info['preview_url']\n",
    "cover_art = track_info['album']['images'][0]['url']\n",
    "url = track_info['href']\n",
    "\n",
    "print(f\"Track Name: {track_name}\")\n",
    "print(f\"Artist: {artist_name}\")\n",
    "print(f\"Album: {album_name}\")\n",
    "print(f\"Release Date: {release_date}\")\n",
    "print(f\"Preview URL: {preview_url}\")\n",
    "print(f\"Cover art: {cover_art}\")\n",
    "print(f\"URL to the song: {url}\")"
   ]
  },
  {
   "cell_type": "code",
   "execution_count": null,
   "metadata": {},
   "outputs": [],
   "source": []
  },
  {
   "cell_type": "code",
   "execution_count": null,
   "metadata": {},
   "outputs": [],
   "source": []
  },
  {
   "cell_type": "code",
   "execution_count": null,
   "metadata": {},
   "outputs": [],
   "source": []
  },
  {
   "cell_type": "code",
   "execution_count": null,
   "metadata": {},
   "outputs": [],
   "source": []
  },
  {
   "cell_type": "code",
   "execution_count": null,
   "metadata": {},
   "outputs": [],
   "source": []
  },
  {
   "cell_type": "code",
   "execution_count": null,
   "metadata": {},
   "outputs": [],
   "source": []
  },
  {
   "cell_type": "code",
   "execution_count": null,
   "metadata": {},
   "outputs": [],
   "source": []
  },
  {
   "cell_type": "code",
   "execution_count": null,
   "metadata": {},
   "outputs": [],
   "source": []
  },
  {
   "cell_type": "code",
   "execution_count": null,
   "metadata": {},
   "outputs": [],
   "source": []
  },
  {
   "cell_type": "code",
   "execution_count": null,
   "metadata": {},
   "outputs": [],
   "source": []
  },
  {
   "cell_type": "code",
   "execution_count": null,
   "metadata": {},
   "outputs": [],
   "source": []
  }
 ],
 "metadata": {
  "kernelspec": {
   "display_name": "BigData",
   "language": "python",
   "name": "python3"
  },
  "language_info": {
   "codemirror_mode": {
    "name": "ipython",
    "version": 3
   },
   "file_extension": ".py",
   "mimetype": "text/x-python",
   "name": "python",
   "nbconvert_exporter": "python",
   "pygments_lexer": "ipython3",
   "version": "3.9.18"
  }
 },
 "nbformat": 4,
 "nbformat_minor": 2
}
