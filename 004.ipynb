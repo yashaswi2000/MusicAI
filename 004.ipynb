{
 "cells": [
  {
   "cell_type": "code",
   "execution_count": 1,
   "metadata": {},
   "outputs": [],
   "source": [
    "import pandas as pd\n",
    "import numpy as np\n",
    "from sentence_transformers import SentenceTransformer, util\n",
    "import requests\n",
    "import dask.dataframe as dd"
   ]
  },
  {
   "cell_type": "code",
   "execution_count": 10,
   "metadata": {},
   "outputs": [],
   "source": [
    "df = dd.read_csv('DATASET/Captioned/*.csv')\n",
    "captions = list(df[\"captioning\"])"
   ]
  },
  {
   "cell_type": "code",
   "execution_count": 5,
   "metadata": {},
   "outputs": [],
   "source": [
    "# API keys and tokens\n",
    "API_URL_Z = \"https://api-inference.huggingface.co/models/HuggingFaceH4/zephyr-7b-beta\"\n",
    "headers_Z = {\"Authorization\": \"Bearer \"}\n",
    "\n",
    "    \n",
    "def Zephyr_overall_opinion(Clips_descriptions):\n",
    "    # Prompt tuning\n",
    "    Z_Query_Final = f\"\"\"<|system|>\n",
    "        Given the user's descriptions about each ten-second clips of the music, provide an overall description of the music</s>\n",
    "        <|user|>\n",
    "        {Clips_descriptions}</s>\n",
    "        <|assistant|>\"\"\"\n",
    "    \n",
    "    # Generate response\n",
    "    Zephyr_B_Beta_Final_Generated_Response = requests.post(API_URL_Z, headers=headers_Z, json={\"inputs\": Z_Query_Final}).json()\n",
    "    \n",
    "    \n",
    "    return Zephyr_B_Beta_Final_Generated_Response[0][\"generated_text\"][len(Z_Query_Final):]"
   ]
  },
  {
   "cell_type": "code",
   "execution_count": 6,
   "metadata": {},
   "outputs": [],
   "source": [
    "overall_captions = []\n",
    "\n",
    "for caption in captions:\n",
    "    overall_captions.append(Zephyr_overall_opinion(caption))"
   ]
  },
  {
   "cell_type": "code",
   "execution_count": null,
   "metadata": {},
   "outputs": [],
   "source": [
    "df['Overall_caption'] = overall_captions"
   ]
  },
  {
   "cell_type": "code",
   "execution_count": null,
   "metadata": {},
   "outputs": [],
   "source": [
    "##### This is dd so it cannt be done like this. use the 005 notebook to change how the adding value is done for df as it cnnot be row wise"
   ]
  },
  {
   "cell_type": "code",
   "execution_count": null,
   "metadata": {},
   "outputs": [],
   "source": []
  }
 ],
 "metadata": {
  "kernelspec": {
   "display_name": "BigData",
   "language": "python",
   "name": "python3"
  },
  "language_info": {
   "codemirror_mode": {
    "name": "ipython",
    "version": 3
   },
   "file_extension": ".py",
   "mimetype": "text/x-python",
   "name": "python",
   "nbconvert_exporter": "python",
   "pygments_lexer": "ipython3",
   "version": "3.9.18"
  }
 },
 "nbformat": 4,
 "nbformat_minor": 2
}
