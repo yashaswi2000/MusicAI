{
 "cells": [
  {
   "cell_type": "code",
   "execution_count": 2,
   "metadata": {},
   "outputs": [],
   "source": [
    "import dask.dataframe as dd\n",
    "from sentence_transformers import SentenceTransformer\n",
    "from pymongo import MongoClient\n",
    "from dask.distributed import Client\n",
    "from dask import delayed"
   ]
  },
  {
   "cell_type": "code",
   "execution_count": 3,
   "metadata": {},
   "outputs": [],
   "source": [
    "def encode_chunk(chunk, VDB_model):\n",
    "    return VDB_model.encode(chunk)"
   ]
  },
  {
   "cell_type": "code",
   "execution_count": 4,
   "metadata": {},
   "outputs": [],
   "source": [
    "client = Client()  # Start a Dask client\n",
    "\n",
    "df = dd.read_csv('DATASET/Captioned/*.csv')\n",
    "captions = df[\"captioning\"].compute().tolist()\n",
    "\n",
    "ADDRESS = dict()  # key: caption, value: file_name\n",
    "for _, row in df.iterrows():\n",
    "    ADDRESS[row['captioning']] = row['file_name']\n",
    "\n",
    "VDB_model = SentenceTransformer('sentence-transformers/all-MiniLM-L6-v2')\n",
    "\n",
    "chunk_size = 200 \n",
    "chunks = [captions[i:i + chunk_size] for i in range(0, len(captions), chunk_size)]\n"
   ]
  },
  {
   "cell_type": "code",
   "execution_count": 5,
   "metadata": {},
   "outputs": [
    {
     "name": "stderr",
     "output_type": "stream",
     "text": [
      "/Users/yashaswi/anaconda3/lib/python3.11/site-packages/distributed/client.py:3125: UserWarning: Sending large graph of size 88.03 MiB.\n",
      "This may cause some slowdown.\n",
      "Consider scattering data ahead of time and using futures.\n",
      "  warnings.warn(\n"
     ]
    },
    {
     "name": "stderr",
     "output_type": "stream",
     "text": [
      "/Users/yashaswi/anaconda3/lib/python3.11/site-packages/distributed/worker.py:2995: UserWarning: Large object of size 87.31 MiB detected in task graph: \n",
      "  (['[0:00-10:00]\\nThis is the live performance of a ...  Normalize()\n",
      "))\n",
      "Consider scattering large objects ahead of time\n",
      "with client.scatter to reduce scheduler burden and \n",
      "keep data on workers\n",
      "\n",
      "    future = client.submit(func, big_data)    # bad\n",
      "\n",
      "    big_future = client.scatter(big_data)     # good\n",
      "    future = client.submit(func, big_future)  # good\n",
      "  warnings.warn(\n"
     ]
    }
   ],
   "source": [
    "# Process each chunk independently and concatenate the results\n",
    "delayed_tasks = [delayed(encode_chunk)(chunk, VDB_model) for chunk in chunks]\n",
    "results = client.compute(delayed_tasks)  # Trigger computation in parallel"
   ]
  },
  {
   "cell_type": "code",
   "execution_count": 6,
   "metadata": {},
   "outputs": [],
   "source": [
    "passage_embedding = []\n",
    "for result in results:\n",
    "    passage_embedding.extend(result.result())"
   ]
  },
  {
   "cell_type": "code",
   "execution_count": 7,
   "metadata": {},
   "outputs": [
    {
     "data": {
      "text/plain": [
       "'file-name_1'"
      ]
     },
     "execution_count": 7,
     "metadata": {},
     "output_type": "execute_result"
    }
   ],
   "source": [
    "client = MongoClient(\"mongodb://localhost:27017/?directConnection=true\")\n",
    "testdb = client.testdb\n",
    "captionsData = testdb.captions\n",
    "for caption in captions:\n",
    "    captionsData.insert_one({\n",
    "        \"caption\": caption,\n",
    "        \"file-name\": ADDRESS[caption]\n",
    "    })\n",
    "captionsData.create_index(\"file-name\")"
   ]
  },
  {
   "cell_type": "code",
   "execution_count": 15,
   "metadata": {},
   "outputs": [],
   "source": [
    "def gendata(passage_embedding, ADDRESS, captions):\n",
    "    for vec in range(len(passage_embedding)):\n",
    "        yield {\n",
    "            \"_op_type\": \"create\",\n",
    "            \"_index\": \"captions-index\",\n",
    "            \"caption-vector\": passage_embedding[vec],\n",
    "            \"file-name\": ADDRESS[captions[vec]],\n",
    "            \"file-type\": \"audio\"\n",
    "        }"
   ]
  },
  {
   "cell_type": "code",
   "execution_count": 16,
   "metadata": {},
   "outputs": [
    {
     "name": "stderr",
     "output_type": "stream",
     "text": [
      "/var/folders/_3/20vlbwwd3k36dszfcrzl4g340000gn/T/ipykernel_19062/2833476695.py:2: DeprecationWarning: The 'http_auth' parameter is deprecated. Use 'basic_auth' or 'bearer_auth' parameters instead\n",
      "  es = Elasticsearch(['https://66d731f461bf42b09d7000cf2ade257b.us-central1.gcp.cloud.es.io'], http_auth=(\"yashaswi\", \"kafkatest\"))\n"
     ]
    },
    {
     "data": {
      "text/plain": [
       "(986, [])"
      ]
     },
     "execution_count": 16,
     "metadata": {},
     "output_type": "execute_result"
    }
   ],
   "source": [
    "from elasticsearch import Elasticsearch, helpers\n",
    "es = Elasticsearch(['https://66d731f461bf42b09d7000cf2ade257b.us-central1.gcp.cloud.es.io'], http_auth=(\"username\", \"password\"))\n",
    "helpers.bulk(es , gendata(passage_embedding, ADDRESS, captions))"
   ]
  }
 ],
 "metadata": {
  "kernelspec": {
   "display_name": "base",
   "language": "python",
   "name": "python3"
  },
  "language_info": {
   "codemirror_mode": {
    "name": "ipython",
    "version": 3
   },
   "file_extension": ".py",
   "mimetype": "text/x-python",
   "name": "python",
   "nbconvert_exporter": "python",
   "pygments_lexer": "ipython3",
   "version": "3.11.5"
  }
 },
 "nbformat": 4,
 "nbformat_minor": 2
}
