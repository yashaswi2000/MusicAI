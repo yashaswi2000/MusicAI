{
 "cells": [
  {
   "cell_type": "code",
   "execution_count": 37,
   "metadata": {},
   "outputs": [],
   "source": [
    "import dask\n",
    "import pandas as pd\n",
    "import numpy as np\n",
    "from sentence_transformers import SentenceTransformer, util\n",
    "import requests"
   ]
  },
  {
   "cell_type": "code",
   "execution_count": 38,
   "metadata": {},
   "outputs": [],
   "source": [
    "df = pd.read_csv(\"DATASET/musiccaps-public.csv\")\n",
    "efficient_data_store = dict()  #key:caption, value:dict(start_s, end_s, ytid)\n",
    "\n",
    "for index, row in df.iterrows():\n",
    "    efficient_data_store[row['caption']] = {\"start_s\":row['start_s'], \"end_s\":row['end_s'], \"ytid\":row['ytid']}\n",
    "\n",
    "captions = np.array(df.caption)"
   ]
  },
  {
   "cell_type": "code",
   "execution_count": 39,
   "metadata": {},
   "outputs": [],
   "source": [
    "QUERY = \"I want a slow and mellow song for sleep\""
   ]
  },
  {
   "cell_type": "code",
   "execution_count": 40,
   "metadata": {},
   "outputs": [],
   "source": [
    "VDB_model = SentenceTransformer('sentence-transformers/all-MiniLM-L6-v2')\n",
    "query_embedding = VDB_model.encode(QUERY)\n",
    "passage_embedding = VDB_model.encode(captions)\n",
    "similarity = util.dot_score(query_embedding, passage_embedding)\n",
    "sorted_similarity = similarity.sort(descending=True)"
   ]
  },
  {
   "cell_type": "code",
   "execution_count": 41,
   "metadata": {},
   "outputs": [
    {
     "name": "stdout",
     "output_type": "stream",
     "text": [
      "Caption that matched your query:  This is a song that would be suitable as meditation music or background music for sleeping. It is calming and features sustained high pitched notes on a pad synth. The song feels ethereal and relaxing.\n"
     ]
    }
   ],
   "source": [
    "print(\"Caption that matched your query: \", captions[int(sorted_similarity[1][0][0])])"
   ]
  },
  {
   "cell_type": "code",
   "execution_count": 42,
   "metadata": {},
   "outputs": [
    {
     "name": "stdout",
     "output_type": "stream",
     "text": [
      "YouTube link to that music clip: https://youtu.be/watch?v=aNJEh3_Vmps&start=30\n"
     ]
    }
   ],
   "source": [
    "music_clip = efficient_data_store[captions[int(sorted_similarity[1][0][0])]]\n",
    "URL = f\"https://youtu.be/watch?v={music_clip['ytid']}&start={music_clip['start_s']}\"\n",
    "print(f\"YouTube link to that music clip: {URL}\")"
   ]
  },
  {
   "cell_type": "code",
   "execution_count": null,
   "metadata": {},
   "outputs": [],
   "source": []
  },
  {
   "cell_type": "code",
   "execution_count": null,
   "metadata": {},
   "outputs": [],
   "source": []
  },
  {
   "cell_type": "code",
   "execution_count": null,
   "metadata": {},
   "outputs": [],
   "source": []
  },
  {
   "cell_type": "code",
   "execution_count": null,
   "metadata": {},
   "outputs": [],
   "source": []
  },
  {
   "cell_type": "code",
   "execution_count": null,
   "metadata": {},
   "outputs": [],
   "source": []
  },
  {
   "cell_type": "code",
   "execution_count": null,
   "metadata": {},
   "outputs": [],
   "source": []
  },
  {
   "cell_type": "code",
   "execution_count": null,
   "metadata": {},
   "outputs": [],
   "source": [
    "API_URL_R = \"https://api-inference.huggingface.co/models/bert-large-uncased-whole-word-masking-finetuned-squad\"\n",
    "headers_R = {\"Authorization\": }\n",
    "\n",
    "\n",
    "def query_RoBERTa(payload):\n",
    "\tresponse = requests.post(API_URL_R, headers=headers_R, json=payload)\n",
    "\treturn response.json()\n",
    "\n",
    "def get_top_k_similar_paragraphs(Paragraphs, sorted_similarity_score, top_k_val=3):\n",
    "    return [int(sorted_similarity_score[1][0][i]) for i in range(0,top_k_val)], [Paragraphs[int(sorted_similarity_score[1][0][i])] for i in range(0,top_k_val)]\n"
   ]
  },
  {
   "cell_type": "code",
   "execution_count": null,
   "metadata": {},
   "outputs": [],
   "source": [
    "indices, Top_K_contexts = get_top_k_similar_paragraphs(lyrics, sorted_similarity, 10)\n",
    "for i in range(len(Top_K_contexts)): print(f\"k={i+1}) {Top_K_contexts[i]}\")\n",
    "print(indices)"
   ]
  },
  {
   "cell_type": "code",
   "execution_count": null,
   "metadata": {},
   "outputs": [],
   "source": []
  },
  {
   "cell_type": "code",
   "execution_count": null,
   "metadata": {},
   "outputs": [],
   "source": []
  },
  {
   "cell_type": "code",
   "execution_count": null,
   "metadata": {},
   "outputs": [],
   "source": []
  },
  {
   "cell_type": "code",
   "execution_count": null,
   "metadata": {},
   "outputs": [],
   "source": []
  }
 ],
 "metadata": {
  "kernelspec": {
   "display_name": "BigData",
   "language": "python",
   "name": "python3"
  },
  "language_info": {
   "codemirror_mode": {
    "name": "ipython",
    "version": 3
   },
   "file_extension": ".py",
   "mimetype": "text/x-python",
   "name": "python",
   "nbconvert_exporter": "python",
   "pygments_lexer": "ipython3",
   "version": "3.9.18"
  }
 },
 "nbformat": 4,
 "nbformat_minor": 2
}
